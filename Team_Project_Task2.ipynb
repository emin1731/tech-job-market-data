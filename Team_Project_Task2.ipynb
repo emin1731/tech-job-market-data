{
 "cells": [
  {
   "cell_type": "markdown",
   "metadata": {},
   "source": [
    "Task 2 Explore the geographical distribution of software engineering job opportunities."
   ]
  },
  {
   "cell_type": "code",
   "execution_count": null,
   "metadata": {},
   "outputs": [],
   "source": [
    "import pandas as pd\n",
    "import matplotlib.pyplot as plt"
   ]
  },
  {
   "cell_type": "code",
   "execution_count": null,
   "metadata": {},
   "outputs": [],
   "source": [
    "# Reads data from jobs.csv and postings.csv\n",
    "jobs_df = pd.read_csv('data\\jobs.csv')\n",
    "postings_df = pd.read_csv('data\\postings.csv')\n",
    "\n",
    "# We select only software engineering jobs\n",
    "software_engineering_jobs = jobs_df[jobs_df['Job function'].str.contains('Software Engineering', case=False)]\n",
    "\n",
    "# Merging job titles from postings.csv to jobs.csv by company name\n",
    "merged_df = pd.merge(software_engineering_jobs, postings_df, how='left', left_on='company', right_on='company')\n",
    "\n",
    "# Counting the number of job opportunities by location\n",
    "location_distribution = merged_df['location'].value_counts()\n",
    "\n",
    "# Grouping countries by wage and job vacancies\n",
    "country_stats = merged_df.groupby('country').agg({'wage': 'median', 'location': 'count'})\n",
    "\n",
    "# Illustration\n",
    "plt.figure(figsize=(12, 6))\n",
    "\n",
    "# Wage Plot\n",
    "plt.subplot(1, 2, 1)\n",
    "country_stats['wage'].plot(kind='bar', color='skyblue')\n",
    "plt.title('Median Wage by Country')\n",
    "plt.ylabel('Median Wage')\n",
    "plt.xlabel('Country')\n",
    "\n",
    "# Vacancies Plot\n",
    "plt.subplot(1, 2, 2)\n",
    "country_stats['location'].plot(kind='bar', color='salmon')\n",
    "plt.title('Job Vacancies by Country')\n",
    "plt.ylabel('Job Vacancies')\n",
    "plt.xlabel('Country')\n",
    "\n",
    "plt.tight_layout()\n",
    "plt.show()\n",
    "\n",
    "print(location_distribution)"
   ]
  }
 ],
 "metadata": {
  "language_info": {
   "name": "python"
  }
 },
 "nbformat": 4,
 "nbformat_minor": 2
}
