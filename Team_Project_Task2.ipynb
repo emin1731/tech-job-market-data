{
 "cells": [
  {
   "cell_type": "markdown",
   "metadata": {},
   "source": [
    "Task 2 Explore the geographical distribution of software engineering job opportunities."
   ]
  },
  {
   "cell_type": "code",
   "execution_count": null,
   "metadata": {},
   "outputs": [],
   "source": [
    "import pandas as pd"
   ]
  },
  {
   "cell_type": "code",
   "execution_count": null,
   "metadata": {},
   "outputs": [],
   "source": [
    "# Reads data from jobs.csv and postings.csv\n",
    "jobs_df = pd.read_csv('data\\jobs.csv')\n",
    "postings_df = pd.read_csv('data\\postings.csv')\n",
    "\n",
    "# We select only software engineering jobs\n",
    "software_engineering_jobs = jobs_df[jobs_df['Job function'].str.contains('Software Engineering', case=False)]\n",
    "\n",
    "# Merging job titles from postings.csv to jobs.csv by company name\n",
    "merged_df = pd.merge(software_engineering_jobs, postings_df, how='left', left_on='company', right_on='company')\n",
    "\n",
    "# Counting the number of job opportunities by location\n",
    "location_distribution = merged_df['location'].value_counts()\n",
    "\n",
    "print(location_distribution)"
   ]
  }
 ],
 "metadata": {
  "language_info": {
   "name": "python"
  }
 },
 "nbformat": 4,
 "nbformat_minor": 2
}
